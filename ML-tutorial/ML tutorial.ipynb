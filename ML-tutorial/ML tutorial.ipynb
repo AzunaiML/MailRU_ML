{
 "cells": [
  {
   "cell_type": "markdown",
   "metadata": {},
   "source": [
    "# MailRU Machine Learning Tutorial Realisation"
   ]
  },
  {
   "cell_type": "markdown",
   "metadata": {},
   "source": [
    "## Анализ данных"
   ]
  },
  {
   "cell_type": "markdown",
   "metadata": {},
   "source": [
    "### Загрузим данные"
   ]
  },
  {
   "cell_type": "code",
   "execution_count": 1,
   "metadata": {
    "collapsed": true
   },
   "outputs": [],
   "source": [
    "import numpy as np\n",
    "import pandas as pd\n",
    "import matplotlib.pyplot as plt\n",
    "plt.style.use('ggplot')\n",
    "%matplotlib inline\n",
    "\n",
    "plt.style.use('ggplot')\n",
    "\n",
    "url = 'https://archive.ics.uci.edu/ml/machine-learning-databases/credit-screening/crx.data'\n",
    "data = pd.read_csv(url, header=None, na_values = '?')\n",
    "data.columns = ['A' + str(i) for i in range(1, 16)] + ['class']\n",
    "\n",
    "\n",
    "categorical_columns = [c for c in data.columns if data[c].dtype.name == 'object']\n",
    "numerical_columns   = [c for c in data.columns if data[c].dtype.name != 'object']"
   ]
  },
  {
   "cell_type": "markdown",
   "metadata": {},
   "source": [
    "### Изучим данные"
   ]
  },
  {
   "cell_type": "code",
   "execution_count": 2,
   "metadata": {
    "collapsed": false
   },
   "outputs": [
    {
     "data": {
      "text/plain": [
       "(690, 16)"
      ]
     },
     "execution_count": 2,
     "metadata": {},
     "output_type": "execute_result"
    }
   ],
   "source": [
    "data.shape"
   ]
  },
  {
   "cell_type": "code",
   "execution_count": 3,
   "metadata": {
    "collapsed": false
   },
   "outputs": [
    {
     "data": {
      "text/html": [
       "<div>\n",
       "<table border=\"1\" class=\"dataframe\">\n",
       "  <thead>\n",
       "    <tr style=\"text-align: right;\">\n",
       "      <th></th>\n",
       "      <th>A1</th>\n",
       "      <th>A2</th>\n",
       "      <th>A3</th>\n",
       "      <th>A4</th>\n",
       "      <th>A5</th>\n",
       "      <th>A6</th>\n",
       "      <th>A7</th>\n",
       "      <th>A8</th>\n",
       "      <th>A9</th>\n",
       "      <th>A10</th>\n",
       "      <th>A11</th>\n",
       "      <th>A12</th>\n",
       "      <th>A13</th>\n",
       "      <th>A14</th>\n",
       "      <th>A15</th>\n",
       "      <th>class</th>\n",
       "    </tr>\n",
       "  </thead>\n",
       "  <tbody>\n",
       "    <tr>\n",
       "      <th>0</th>\n",
       "      <td>b</td>\n",
       "      <td>30.83</td>\n",
       "      <td>0.000</td>\n",
       "      <td>u</td>\n",
       "      <td>g</td>\n",
       "      <td>w</td>\n",
       "      <td>v</td>\n",
       "      <td>1.25</td>\n",
       "      <td>t</td>\n",
       "      <td>t</td>\n",
       "      <td>1</td>\n",
       "      <td>f</td>\n",
       "      <td>g</td>\n",
       "      <td>202</td>\n",
       "      <td>0</td>\n",
       "      <td>+</td>\n",
       "    </tr>\n",
       "    <tr>\n",
       "      <th>1</th>\n",
       "      <td>a</td>\n",
       "      <td>58.67</td>\n",
       "      <td>4.460</td>\n",
       "      <td>u</td>\n",
       "      <td>g</td>\n",
       "      <td>q</td>\n",
       "      <td>h</td>\n",
       "      <td>3.04</td>\n",
       "      <td>t</td>\n",
       "      <td>t</td>\n",
       "      <td>6</td>\n",
       "      <td>f</td>\n",
       "      <td>g</td>\n",
       "      <td>43</td>\n",
       "      <td>560</td>\n",
       "      <td>+</td>\n",
       "    </tr>\n",
       "    <tr>\n",
       "      <th>2</th>\n",
       "      <td>a</td>\n",
       "      <td>24.50</td>\n",
       "      <td>0.500</td>\n",
       "      <td>u</td>\n",
       "      <td>g</td>\n",
       "      <td>q</td>\n",
       "      <td>h</td>\n",
       "      <td>1.50</td>\n",
       "      <td>t</td>\n",
       "      <td>f</td>\n",
       "      <td>0</td>\n",
       "      <td>f</td>\n",
       "      <td>g</td>\n",
       "      <td>280</td>\n",
       "      <td>824</td>\n",
       "      <td>+</td>\n",
       "    </tr>\n",
       "    <tr>\n",
       "      <th>3</th>\n",
       "      <td>b</td>\n",
       "      <td>27.83</td>\n",
       "      <td>1.540</td>\n",
       "      <td>u</td>\n",
       "      <td>g</td>\n",
       "      <td>w</td>\n",
       "      <td>v</td>\n",
       "      <td>3.75</td>\n",
       "      <td>t</td>\n",
       "      <td>t</td>\n",
       "      <td>5</td>\n",
       "      <td>t</td>\n",
       "      <td>g</td>\n",
       "      <td>100</td>\n",
       "      <td>3</td>\n",
       "      <td>+</td>\n",
       "    </tr>\n",
       "    <tr>\n",
       "      <th>4</th>\n",
       "      <td>b</td>\n",
       "      <td>20.17</td>\n",
       "      <td>5.625</td>\n",
       "      <td>u</td>\n",
       "      <td>g</td>\n",
       "      <td>w</td>\n",
       "      <td>v</td>\n",
       "      <td>1.71</td>\n",
       "      <td>t</td>\n",
       "      <td>f</td>\n",
       "      <td>0</td>\n",
       "      <td>f</td>\n",
       "      <td>s</td>\n",
       "      <td>120</td>\n",
       "      <td>0</td>\n",
       "      <td>+</td>\n",
       "    </tr>\n",
       "  </tbody>\n",
       "</table>\n",
       "</div>"
      ],
      "text/plain": [
       "  A1     A2     A3 A4 A5 A6 A7    A8 A9 A10  A11 A12 A13  A14  A15 class\n",
       "0  b  30.83  0.000  u  g  w  v  1.25  t   t    1   f   g  202    0     +\n",
       "1  a  58.67  4.460  u  g  q  h  3.04  t   t    6   f   g   43  560     +\n",
       "2  a  24.50  0.500  u  g  q  h  1.50  t   f    0   f   g  280  824     +\n",
       "3  b  27.83  1.540  u  g  w  v  3.75  t   t    5   t   g  100    3     +\n",
       "4  b  20.17  5.625  u  g  w  v  1.71  t   f    0   f   s  120    0     +"
      ]
     },
     "execution_count": 3,
     "metadata": {},
     "output_type": "execute_result"
    }
   ],
   "source": [
    "data.head()"
   ]
  },
  {
   "cell_type": "code",
   "execution_count": 4,
   "metadata": {
    "collapsed": false
   },
   "outputs": [
    {
     "data": {
      "text/html": [
       "<div>\n",
       "<table border=\"1\" class=\"dataframe\">\n",
       "  <thead>\n",
       "    <tr style=\"text-align: right;\">\n",
       "      <th></th>\n",
       "      <th>A1</th>\n",
       "      <th>A2</th>\n",
       "      <th>A3</th>\n",
       "      <th>A4</th>\n",
       "      <th>A5</th>\n",
       "      <th>A6</th>\n",
       "      <th>A7</th>\n",
       "      <th>A8</th>\n",
       "      <th>A9</th>\n",
       "      <th>A10</th>\n",
       "      <th>A11</th>\n",
       "      <th>A12</th>\n",
       "      <th>A13</th>\n",
       "      <th>A14</th>\n",
       "      <th>A15</th>\n",
       "      <th>class</th>\n",
       "    </tr>\n",
       "  </thead>\n",
       "  <tbody>\n",
       "    <tr>\n",
       "      <th>685</th>\n",
       "      <td>b</td>\n",
       "      <td>21.08</td>\n",
       "      <td>10.085</td>\n",
       "      <td>y</td>\n",
       "      <td>p</td>\n",
       "      <td>e</td>\n",
       "      <td>h</td>\n",
       "      <td>1.25</td>\n",
       "      <td>f</td>\n",
       "      <td>f</td>\n",
       "      <td>0</td>\n",
       "      <td>f</td>\n",
       "      <td>g</td>\n",
       "      <td>260</td>\n",
       "      <td>0</td>\n",
       "      <td>-</td>\n",
       "    </tr>\n",
       "    <tr>\n",
       "      <th>686</th>\n",
       "      <td>a</td>\n",
       "      <td>22.67</td>\n",
       "      <td>0.750</td>\n",
       "      <td>u</td>\n",
       "      <td>g</td>\n",
       "      <td>c</td>\n",
       "      <td>v</td>\n",
       "      <td>2.00</td>\n",
       "      <td>f</td>\n",
       "      <td>t</td>\n",
       "      <td>2</td>\n",
       "      <td>t</td>\n",
       "      <td>g</td>\n",
       "      <td>200</td>\n",
       "      <td>394</td>\n",
       "      <td>-</td>\n",
       "    </tr>\n",
       "    <tr>\n",
       "      <th>687</th>\n",
       "      <td>a</td>\n",
       "      <td>25.25</td>\n",
       "      <td>13.500</td>\n",
       "      <td>y</td>\n",
       "      <td>p</td>\n",
       "      <td>ff</td>\n",
       "      <td>ff</td>\n",
       "      <td>2.00</td>\n",
       "      <td>f</td>\n",
       "      <td>t</td>\n",
       "      <td>1</td>\n",
       "      <td>t</td>\n",
       "      <td>g</td>\n",
       "      <td>200</td>\n",
       "      <td>1</td>\n",
       "      <td>-</td>\n",
       "    </tr>\n",
       "    <tr>\n",
       "      <th>688</th>\n",
       "      <td>b</td>\n",
       "      <td>17.92</td>\n",
       "      <td>0.205</td>\n",
       "      <td>u</td>\n",
       "      <td>g</td>\n",
       "      <td>aa</td>\n",
       "      <td>v</td>\n",
       "      <td>0.04</td>\n",
       "      <td>f</td>\n",
       "      <td>f</td>\n",
       "      <td>0</td>\n",
       "      <td>f</td>\n",
       "      <td>g</td>\n",
       "      <td>280</td>\n",
       "      <td>750</td>\n",
       "      <td>-</td>\n",
       "    </tr>\n",
       "    <tr>\n",
       "      <th>689</th>\n",
       "      <td>b</td>\n",
       "      <td>35.00</td>\n",
       "      <td>3.375</td>\n",
       "      <td>u</td>\n",
       "      <td>g</td>\n",
       "      <td>c</td>\n",
       "      <td>h</td>\n",
       "      <td>8.29</td>\n",
       "      <td>f</td>\n",
       "      <td>f</td>\n",
       "      <td>0</td>\n",
       "      <td>t</td>\n",
       "      <td>g</td>\n",
       "      <td>0</td>\n",
       "      <td>0</td>\n",
       "      <td>-</td>\n",
       "    </tr>\n",
       "  </tbody>\n",
       "</table>\n",
       "</div>"
      ],
      "text/plain": [
       "    A1     A2      A3 A4 A5  A6  A7    A8 A9 A10  A11 A12 A13  A14  A15 class\n",
       "685  b  21.08  10.085  y  p   e   h  1.25  f   f    0   f   g  260    0     -\n",
       "686  a  22.67   0.750  u  g   c   v  2.00  f   t    2   t   g  200  394     -\n",
       "687  a  25.25  13.500  y  p  ff  ff  2.00  f   t    1   t   g  200    1     -\n",
       "688  b  17.92   0.205  u  g  aa   v  0.04  f   f    0   f   g  280  750     -\n",
       "689  b  35.00   3.375  u  g   c   h  8.29  f   f    0   t   g    0    0     -"
      ]
     },
     "execution_count": 4,
     "metadata": {},
     "output_type": "execute_result"
    }
   ],
   "source": [
    "data.tail()"
   ]
  },
  {
   "cell_type": "code",
   "execution_count": 5,
   "metadata": {
    "collapsed": false
   },
   "outputs": [
    {
     "data": {
      "text/plain": [
       "array([[<matplotlib.axes._subplots.AxesSubplot object at 0x0000000003ACDD30>,\n",
       "        <matplotlib.axes._subplots.AxesSubplot object at 0x00000000095037F0>,\n",
       "        <matplotlib.axes._subplots.AxesSubplot object at 0x000000000A1A8DD8>,\n",
       "        <matplotlib.axes._subplots.AxesSubplot object at 0x000000000A26E780>,\n",
       "        <matplotlib.axes._subplots.AxesSubplot object at 0x000000000A364F60>,\n",
       "        <matplotlib.axes._subplots.AxesSubplot object at 0x000000000A41F4E0>],\n",
       "       [<matplotlib.axes._subplots.AxesSubplot object at 0x000000000A528470>,\n",
       "        <matplotlib.axes._subplots.AxesSubplot object at 0x000000000A5C9320>,\n",
       "        <matplotlib.axes._subplots.AxesSubplot object at 0x000000000A700E10>,\n",
       "        <matplotlib.axes._subplots.AxesSubplot object at 0x000000000A665898>,\n",
       "        <matplotlib.axes._subplots.AxesSubplot object at 0x000000000A8757B8>,\n",
       "        <matplotlib.axes._subplots.AxesSubplot object at 0x000000000A97E160>],\n",
       "       [<matplotlib.axes._subplots.AxesSubplot object at 0x000000000AA61828>,\n",
       "        <matplotlib.axes._subplots.AxesSubplot object at 0x000000000AB2A1D0>,\n",
       "        <matplotlib.axes._subplots.AxesSubplot object at 0x000000000ABCF2E8>,\n",
       "        <matplotlib.axes._subplots.AxesSubplot object at 0x000000000ACC5D30>,\n",
       "        <matplotlib.axes._subplots.AxesSubplot object at 0x000000000AD06400>,\n",
       "        <matplotlib.axes._subplots.AxesSubplot object at 0x000000000AE3B518>],\n",
       "       [<matplotlib.axes._subplots.AxesSubplot object at 0x000000000AF33E80>,\n",
       "        <matplotlib.axes._subplots.AxesSubplot object at 0x000000000B027208>,\n",
       "        <matplotlib.axes._subplots.AxesSubplot object at 0x000000000B227B70>,\n",
       "        <matplotlib.axes._subplots.AxesSubplot object at 0x000000000B2CF7B8>,\n",
       "        <matplotlib.axes._subplots.AxesSubplot object at 0x000000000B3DD390>,\n",
       "        <matplotlib.axes._subplots.AxesSubplot object at 0x000000000B4D5CF8>],\n",
       "       [<matplotlib.axes._subplots.AxesSubplot object at 0x000000000B584710>,\n",
       "        <matplotlib.axes._subplots.AxesSubplot object at 0x000000000B68C0B8>,\n",
       "        <matplotlib.axes._subplots.AxesSubplot object at 0x000000000B72F1D0>,\n",
       "        <matplotlib.axes._subplots.AxesSubplot object at 0x000000000B7E6C18>,\n",
       "        <matplotlib.axes._subplots.AxesSubplot object at 0x000000000B86F2E8>,\n",
       "        <matplotlib.axes._subplots.AxesSubplot object at 0x000000000BA0C630>],\n",
       "       [<matplotlib.axes._subplots.AxesSubplot object at 0x000000000BACCF98>,\n",
       "        <matplotlib.axes._subplots.AxesSubplot object at 0x000000000BB65F60>,\n",
       "        <matplotlib.axes._subplots.AxesSubplot object at 0x000000000BC76908>,\n",
       "        <matplotlib.axes._subplots.AxesSubplot object at 0x000000000BCABE48>,\n",
       "        <matplotlib.axes._subplots.AxesSubplot object at 0x000000000BDEC128>,\n",
       "        <matplotlib.axes._subplots.AxesSubplot object at 0x000000000BEEBA90>]], dtype=object)"
      ]
     },
     "execution_count": 5,
     "metadata": {},
     "output_type": "execute_result"
    },
    {
     "data": {
      "image/png": "[encoded data removed]",
      "text/plain": [
       "<matplotlib.figure.Figure at 0x3a77ba8>"
      ]
     },
     "metadata": {},
     "output_type": "display_data"
    }
   ],
   "source": [
    "from pandas.tools.plotting import scatter_matrix\n",
    "scatter_matrix(data, alpha=0.05, figsize=(10, 10))"
   ]
  },
  {
   "cell_type": "code",
   "execution_count": 5,
   "metadata": {
    "collapsed": false
   },
   "outputs": [
    {
     "data": {
      "image/png": "[encoded data removed]",
      "text/plain": [
       "<matplotlib.figure.Figure at 0x3bce0b8>"
      ]
     },
     "metadata": {},
     "output_type": "display_data"
    }
   ],
   "source": [
    "import scatter_matrix_with_categoricals as smc\n",
    "smc.scatter_matrix_with_categoricals(data, 'A2', 'A11', 'class')"
   ]
  },
  {
   "cell_type": "markdown",
   "metadata": {},
   "source": [
    "### Подготовим данные для sci-kit learn"
   ]
  },
  {
   "cell_type": "code",
   "execution_count": 4,
   "metadata": {
    "collapsed": false
   },
   "outputs": [
    {
     "name": "stdout",
     "output_type": "stream",
     "text": [
      "483 207\n"
     ]
    }
   ],
   "source": [
    "# Заполняем пропуски в данных\n",
    "data = data.fillna(data.median(axis=0), axis=0)\n",
    "data_describe = data.describe(include=[object])\n",
    "for c in categorical_columns:\n",
    "    data[c] = data[c].fillna(data_describe[c]['top'])\n",
    "\n",
    "# Превращаем качественные паременные в бинарные там, где 2 типа (t или f, например)\n",
    "binary_columns    = [c for c in categorical_columns if data_describe[c]['unique'] == 2]\n",
    "for c in binary_columns:\n",
    "    top = data_describe[c]['top']\n",
    "    top_items = data[c] == top\n",
    "    data.loc[top_items, c] = 0\n",
    "    data.loc[np.logical_not(top_items), c] = 1\n",
    "    \n",
    "# Создаем dummy для качественных переменных    \n",
    "nonbinary_columns = [c for c in categorical_columns if data_describe[c]['unique'] > 2]\n",
    "data_nonbinary = pd.get_dummies(data[nonbinary_columns])\n",
    "\n",
    "# Нормализация числовых данных\n",
    "data_numerical = data[numerical_columns]\n",
    "data_numerical = (data_numerical - data_numerical.mean()) / data_numerical.std()\n",
    "\n",
    "# Объединяем все обратно в одну таблицу\n",
    "data = pd.concat((data_numerical, data[binary_columns], data_nonbinary), axis=1)\n",
    "data = pd.DataFrame(data, dtype=float)\n",
    "\n",
    "# Выбрасываем столбец 'class'.\n",
    "X = data.drop(('class'), axis=1)  \n",
    "y = data['class']\n",
    "feature_names = X.columns\n",
    "N, d = X.shape\n",
    "\n",
    "# Разбиваем выборку на тестовую и обучающаю\n",
    "from sklearn.cross_validation import train_test_split\n",
    "X_train, X_test, y_train, y_test = train_test_split(X, \n",
    "                                                    y, \n",
    "                                                    test_size = 0.3, \n",
    "                                                    random_state = 11)\n",
    "\n",
    "N_train, _ = X_train.shape \n",
    "N_test,  _ = X_test.shape \n",
    "print N_train, N_test"
   ]
  },
  {
   "cell_type": "markdown",
   "metadata": {},
   "source": [
    "## Обучение моделей"
   ]
  },
  {
   "cell_type": "markdown",
   "metadata": {},
   "source": [
    "### k ближайших соседей"
   ]
  },
  {
   "cell_type": "code",
   "execution_count": 8,
   "metadata": {
    "collapsed": false
   },
   "outputs": [
    {
     "name": "stdout",
     "output_type": "stream",
     "text": [
      "0.146997929607 0.169082125604\n"
     ]
    }
   ],
   "source": [
    "# Обучаем модель\n",
    "from sklearn.neighbors import KNeighborsClassifier\n",
    "\n",
    "knn = KNeighborsClassifier()\n",
    "knn.fit(X_train, y_train)\n",
    "\n",
    "# Считаем ошибку\n",
    "y_train_predict = knn.predict(X_train)\n",
    "y_test_predict = knn.predict(X_test)\n",
    "\n",
    "err_train = np.mean(y_train != y_train_predict)\n",
    "err_test  = np.mean(y_test  != y_test_predict)\n",
    "print 'Ошибка на обучающей выборке:',err_train, '| Ошибка на тестовой выборке:',err_test"
   ]
  },
  {
   "cell_type": "code",
   "execution_count": 18,
   "metadata": {
    "collapsed": false
   },
   "outputs": [
    {
     "name": "stdout",
     "output_type": "stream",
     "text": [
      "Выбираем оптимальное k:\n",
      "0.207039337474 7\n",
      "Ошибки на основании оптимального k:\n",
      "Ошибка на обучеющей выборке: 0.151138716356 | Ошибка на тестовой выборке: 0.164251207729\n"
     ]
    }
   ],
   "source": [
    "# Выбираем оптимальное k\n",
    "from sklearn.grid_search import GridSearchCV\n",
    "n_neighbors_array = [1, 3, 5, 7, 10, 15]\n",
    "knn = KNeighborsClassifier()\n",
    "grid = GridSearchCV(knn, param_grid={'n_neighbors': n_neighbors_array})\n",
    "grid.fit(X_train, y_train)\n",
    "\n",
    "best_cv_err = 1 - grid.best_score_\n",
    "best_n_neighbors = grid.best_estimator_.n_neighbors\n",
    "print 'Выбираем оптимальное k:'\n",
    "print best_cv_err, best_n_neighbors\n",
    "\n",
    "# Обучаем на основании лучшего значения\n",
    "knn = KNeighborsClassifier(n_neighbors=best_n_neighbors)\n",
    "knn.fit(X_train, y_train)\n",
    "\n",
    "err_train = np.mean(y_train != knn.predict(X_train))\n",
    "err_test  = np.mean(y_test  != knn.predict(X_test))\n",
    "print 'Ошибки на основании оптимального k:'\n",
    "print 'Ошибка на обучающей выборке:',err_train, '| Ошибка на тестовой выборке:',err_test"
   ]
  },
  {
   "cell_type": "markdown",
   "metadata": {},
   "source": [
    "### SVC (метод опорных векторов)"
   ]
  },
  {
   "cell_type": "code",
   "execution_count": 5,
   "metadata": {
    "collapsed": false
   },
   "outputs": [
    {
     "name": "stdout",
     "output_type": "stream",
     "text": [
      "0.144927536232 0.130434782609\n"
     ]
    }
   ],
   "source": [
    "from sklearn.svm import SVC\n",
    "svc = SVC()\n",
    "svc.fit(X_train, y_train)\n",
    "\n",
    "err_train = np.mean(y_train != svc.predict(X_train))\n",
    "err_test  = np.mean(y_test  != svc.predict(X_test))\n",
    "print err_train, err_test"
   ]
  },
  {
   "cell_type": "code",
   "execution_count": 7,
   "metadata": {
    "collapsed": false
   },
   "outputs": [
    {
     "name": "stdout",
     "output_type": "stream",
     "text": [
      "CV error    =  0.138716356108\n",
      "best C      =  1.0\n",
      "best gamma  =  0.01\n",
      "0.134575569358 0.111111111111\n"
     ]
    }
   ],
   "source": [
    "# Вначале попробуем найти лучшие значения параметров для радиального ядра\n",
    "from sklearn.grid_search import GridSearchCV\n",
    "C_array = np.logspace(-3, 3, num=7)\n",
    "gamma_array = np.logspace(-5, 2, num=8)\n",
    "svc = SVC(kernel='rbf')\n",
    "grid = GridSearchCV(svc, param_grid={'C': C_array, 'gamma': gamma_array})\n",
    "grid.fit(X_train, y_train)\n",
    "print 'CV error    = ', 1 - grid.best_score_\n",
    "print 'best C      = ', grid.best_estimator_.C\n",
    "print 'best gamma  = ', grid.best_estimator_.gamma\n",
    "\n",
    "# Обучаем на основании лучшего значения\n",
    "svc = SVC(kernel='rbf', C=grid.best_estimator_.C, gamma=grid.best_estimator_.gamma)\n",
    "svc.fit(X_train, y_train)\n",
    "\n",
    "err_train = np.mean(y_train != svc.predict(X_train))\n",
    "err_test  = np.mean(y_test  != svc.predict(X_test))\n",
    "print err_train, err_test"
   ]
  },
  {
   "cell_type": "code",
   "execution_count": 8,
   "metadata": {
    "collapsed": false
   },
   "outputs": [
    {
     "name": "stdout",
     "output_type": "stream",
     "text": [
      "CV error    =  0.151138716356\n",
      "best C      =  0.1\n",
      "0.151138716356 0.125603864734\n"
     ]
    }
   ],
   "source": [
    "# Теперь рассмотрим линейное ядро.\n",
    "from sklearn.grid_search import GridSearchCV\n",
    "C_array = np.logspace(-3, 3, num=7)\n",
    "svc = SVC(kernel='linear')\n",
    "grid = GridSearchCV(svc, param_grid={'C': C_array})\n",
    "grid.fit(X_train, y_train)\n",
    "print 'CV error    = ', 1 - grid.best_score_\n",
    "print 'best C      = ', grid.best_estimator_.C\n",
    "\n",
    "# Обучаем на основании лучшего значения\n",
    "svc = SVC(kernel='linear', C=grid.best_estimator_.C)\n",
    "svc.fit(X_train, y_train)\n",
    "\n",
    "err_train = np.mean(y_train != svc.predict(X_train))\n",
    "err_test  = np.mean(y_test  != svc.predict(X_test))\n",
    "print err_train, err_test"
   ]
  },
  {
   "cell_type": "code",
   "execution_count": 9,
   "metadata": {
    "collapsed": false
   },
   "outputs": [
    {
     "name": "stdout",
     "output_type": "stream",
     "text": [
      "CV error    =  0.138716356108\n",
      "best C      =  0.0001\n",
      "best gamma  =  10.0\n",
      "best degree =  2\n",
      "0.0973084886128 0.12077294686\n"
     ]
    }
   ],
   "source": [
    "# Попробуем также полиномиальное ядро\n",
    "from sklearn.grid_search import GridSearchCV\n",
    "C_array = np.logspace(-5, 2, num=8)\n",
    "gamma_array = np.logspace(-5, 2, num=8)\n",
    "degree_array = [2, 3, 4]\n",
    "svc = SVC(kernel='poly')\n",
    "grid = GridSearchCV(svc, param_grid={'C': C_array, 'gamma': gamma_array, 'degree': degree_array})\n",
    "grid.fit(X_train, y_train)\n",
    "print 'CV error    = ', 1 - grid.best_score_\n",
    "print 'best C      = ', grid.best_estimator_.C\n",
    "print 'best gamma  = ', grid.best_estimator_.gamma\n",
    "print 'best degree = ', grid.best_estimator_.degree\n",
    "\n",
    "# Обучаем на основании лучшего значения\n",
    "svc = SVC(kernel='poly', C=grid.best_estimator_.C, \n",
    "          gamma=grid.best_estimator_.gamma, degree=grid.best_estimator_.degree)\n",
    "svc.fit(X_train, y_train)\n",
    "\n",
    "err_train = np.mean(y_train != svc.predict(X_train))\n",
    "err_test  = np.mean(y_test  != svc.predict(X_test))\n",
    "print err_train, err_test"
   ]
  },
  {
   "cell_type": "markdown",
   "metadata": {},
   "source": [
    "### Random Forest – случайный лес"
   ]
  },
  {
   "cell_type": "code",
   "execution_count": 18,
   "metadata": {
    "collapsed": false
   },
   "outputs": [
    {
     "name": "stdout",
     "output_type": "stream",
     "text": [
      "0.0 0.101449275362\n",
      "CV error    =  0.134575569358\n",
      "best C      =  150\n",
      "0.0 0.106280193237\n"
     ]
    }
   ],
   "source": [
    "#Обучаем модель\n",
    "from sklearn import ensemble\n",
    "rf = ensemble.RandomForestClassifier(n_estimators=100, random_state=11)\n",
    "rf.fit(X_train, y_train)\n",
    "\n",
    "err_train = np.mean(y_train != rf.predict(X_train))\n",
    "err_test  = np.mean(y_test  != rf.predict(X_test))\n",
    "print err_train, err_test\n",
    "\n",
    "#Ищем лучшее значение n_estimators\n",
    "from sklearn.grid_search import GridSearchCV\n",
    "n_estimators_array = [90,100,110,125,150,200,250]\n",
    "grid = GridSearchCV(rf, param_grid={'n_estimators' : n_estimators_array})\n",
    "grid.fit(X_train, y_train)\n",
    "print 'CV error    = ', 1 - grid.best_score_\n",
    "print 'best C      = ', grid.best_estimator_.n_estimators\n",
    "\n",
    "# Обучаем на основании лучшего значения\n",
    "rf = ensemble.RandomForestClassifier(n_estimators=grid.best_estimator_.n_estimators, \n",
    "                                     random_state=11)\n",
    "rf.fit(X_train, y_train)\n",
    "\n",
    "err_train = np.mean(y_train != rf.predict(X_train))\n",
    "err_test  = np.mean(y_test  != rf.predict(X_test))\n",
    "print err_train, err_test"
   ]
  },
  {
   "cell_type": "code",
   "execution_count": 19,
   "metadata": {
    "collapsed": false
   },
   "outputs": [
    {
     "name": "stdout",
     "output_type": "stream",
     "text": [
      "Feature importances:\n",
      " 1. feature 'A9   ' (0.2334)\n",
      " 2. feature 'A8   ' (0.1034)\n",
      " 3. feature 'A11  ' (0.0832)\n",
      " 4. feature 'A15  ' (0.0817)\n",
      " 5. feature 'A3   ' (0.0777)\n",
      " 6. feature 'A14  ' (0.0758)\n",
      " 7. feature 'A2   ' (0.0634)\n",
      " 8. feature 'A10  ' (0.0613)\n",
      " 9. feature 'A6_x ' (0.0148)\n",
      "10. feature 'A12  ' (0.0138)\n",
      "11. feature 'A7_h ' (0.0131)\n",
      "12. feature 'A1   ' (0.0130)\n",
      "13. feature 'A6_k ' (0.0121)\n",
      "14. feature 'A7_v ' (0.0112)\n",
      "15. feature 'A6_q ' (0.0110)\n",
      "16. feature 'A13_g' (0.0094)\n",
      "17. feature 'A5_p ' (0.0093)\n",
      "18. feature 'A6_w ' (0.0093)\n",
      "19. feature 'A5_g ' (0.0086)\n",
      "20. feature 'A6_ff' (0.0086)\n",
      "21. feature 'A4_y ' (0.0084)\n",
      "22. feature 'A4_u ' (0.0083)\n",
      "23. feature 'A6_c ' (0.0082)\n",
      "24. feature 'A7_bb' (0.0073)\n",
      "25. feature 'A6_cc' (0.0073)\n",
      "26. feature 'A13_s' (0.0066)\n",
      "27. feature 'A6_i ' (0.0057)\n",
      "28. feature 'A7_ff' (0.0057)\n",
      "29. feature 'A6_aa' (0.0050)\n",
      "30. feature 'A6_m ' (0.0038)\n",
      "31. feature 'A6_d ' (0.0036)\n",
      "32. feature 'A13_p' (0.0034)\n",
      "33. feature 'A6_e ' (0.0031)\n",
      "34. feature 'A7_n ' (0.0023)\n",
      "35. feature 'A7_j ' (0.0019)\n",
      "36. feature 'A4_l ' (0.0013)\n",
      "37. feature 'A7_z ' (0.0011)\n",
      "38. feature 'A7_dd' (0.0011)\n",
      "39. feature 'A6_j ' (0.0008)\n",
      "40. feature 'A5_gg' (0.0008)\n",
      "41. feature 'A6_r ' (0.0004)\n",
      "42. feature 'A7_o ' (0.0000)\n"
     ]
    }
   ],
   "source": [
    "# Отбор наиболее важных признаков\n",
    "importances = rf.feature_importances_\n",
    "indices = np.argsort(importances)[::-1]\n",
    "\n",
    "print(\"Feature importances:\")\n",
    "for f, idx in enumerate(indices):\n",
    "    print(\"{:2d}. feature '{:5s}' ({:.4f})\".format(f + 1, feature_names[idx], importances[idx]))"
   ]
  },
  {
   "cell_type": "code",
   "execution_count": 21,
   "metadata": {
    "collapsed": false
   },
   "outputs": [
    {
     "name": "stdout",
     "output_type": "stream",
     "text": [
      "Index([u'A9', u'A8', u'A11', u'A15', u'A3', u'A14', u'A2', u'A10'], dtype='object')\n"
     ]
    },
    {
     "data": {
      "image/png": "[encoded data removed]",
      "text/plain": [
       "<matplotlib.figure.Figure at 0xc3adc18>"
      ]
     },
     "metadata": {},
     "output_type": "display_data"
    }
   ],
   "source": [
    "# построим диаграмму\n",
    "d_first = 20\n",
    "plt.figure(figsize=(8, 8))\n",
    "plt.title(\"Feature importances\")\n",
    "plt.bar(range(d_first), importances[indices[:d_first]], align='center')\n",
    "plt.xticks(range(d_first), np.array(feature_names)[indices[:d_first]], rotation=90)\n",
    "plt.xlim([-1, d_first]);\n",
    "\n",
    "best_features = indices[:8]\n",
    "best_features_names = feature_names[best_features]\n",
    "print(best_features_names)"
   ]
  },
  {
   "cell_type": "markdown",
   "metadata": {},
   "source": [
    "### GBT – градиентный бустинг деревьев решений"
   ]
  },
  {
   "cell_type": "code",
   "execution_count": 24,
   "metadata": {
    "collapsed": false
   },
   "outputs": [
    {
     "name": "stdout",
     "output_type": "stream",
     "text": [
      "0.0248447204969 0.101449275362\n",
      "0.0351966873706 0.106280193237\n",
      "CV error    =  0.138716356108\n",
      "best C      =  325\n",
      "0.0 0.106280193237\n"
     ]
    }
   ],
   "source": [
    "# Просто обучаем GBT модель\n",
    "from sklearn import ensemble\n",
    "gbt = ensemble.GradientBoostingClassifier(n_estimators=100, random_state=11)\n",
    "gbt.fit(X_train, y_train)\n",
    "\n",
    "err_train = np.mean(y_train != gbt.predict(X_train))\n",
    "err_test = np.mean(y_test != gbt.predict(X_test))\n",
    "print err_train, err_test\n",
    "\n",
    "# Используем только лучшие фичи\n",
    "gbt = ensemble.GradientBoostingClassifier(n_estimators=100, random_state=11)\n",
    "gbt.fit(X_train[best_features_names], y_train)\n",
    "\n",
    "err_train = np.mean(y_train != gbt.predict(X_train[best_features_names]))\n",
    "err_test = np.mean(y_test != gbt.predict(X_test[best_features_names]))\n",
    "print err_train, err_test\n",
    "\n",
    "#Ищем лучшее значение n_estimators\n",
    "from sklearn.grid_search import GridSearchCV\n",
    "n_estimators_array = [90,100,110,125,150,200,250,275,300,325]\n",
    "grid = GridSearchCV(gbt, param_grid={'n_estimators' : n_estimators_array})\n",
    "grid.fit(X_train[best_features_names], y_train)\n",
    "print 'CV error    = ', 1 - grid.best_score_\n",
    "print 'best C      = ', grid.best_estimator_.n_estimators\n",
    "\n",
    "# Обучаем на основании лучшего значения\n",
    "gbt = ensemble.GradientBoostingClassifier(n_estimators=grid.best_estimator_.n_estimators, \n",
    "                                     random_state=11)\n",
    "gbt.fit(X_train[best_features_names], y_train)\n",
    "\n",
    "err_train = np.mean(y_train != rf.predict(X_train))\n",
    "err_test  = np.mean(y_test  != rf.predict(X_test))\n",
    "print err_train, err_test"
   ]
  }
 ],
 "metadata": {
  "kernelspec": {
   "display_name": "Python 2",
   "language": "python",
   "name": "python2"
  },
  "language_info": {
   "codemirror_mode": {
    "name": "ipython",
    "version": 2
   },
   "file_extension": ".py",
   "mimetype": "text/x-python",
   "name": "python",
   "nbconvert_exporter": "python",
   "pygments_lexer": "ipython2",
   "version": "2.7.11"
  }
 },
 "nbformat": 4,
 "nbformat_minor": 0
}
